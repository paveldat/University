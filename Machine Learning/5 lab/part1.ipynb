{
 "cells": [
  {
   "cell_type": "code",
   "execution_count": 1,
   "metadata": {},
   "outputs": [],
   "source": [
    "from sklearn.linear_model import LinearRegression\n",
    "import pandas as pd\n",
    "import numpy as np\n",
    "import matplotlib.pyplot as plt\n",
    "from sklearn.metrics import mean_squared_error"
   ]
  },
  {
   "cell_type": "code",
   "execution_count": 2,
   "metadata": {},
   "outputs": [
    {
     "data": {
      "text/html": [
       "<div>\n",
       "<style scoped>\n",
       "    .dataframe tbody tr th:only-of-type {\n",
       "        vertical-align: middle;\n",
       "    }\n",
       "\n",
       "    .dataframe tbody tr th {\n",
       "        vertical-align: top;\n",
       "    }\n",
       "\n",
       "    .dataframe thead th {\n",
       "        text-align: right;\n",
       "    }\n",
       "</style>\n",
       "<table border=\"1\" class=\"dataframe\">\n",
       "  <thead>\n",
       "    <tr style=\"text-align: right;\">\n",
       "      <th></th>\n",
       "      <th>z</th>\n",
       "      <th>x</th>\n",
       "      <th>y</th>\n",
       "    </tr>\n",
       "  </thead>\n",
       "  <tbody>\n",
       "    <tr>\n",
       "      <th>0</th>\n",
       "      <td>2.836772</td>\n",
       "      <td>0.271010</td>\n",
       "      <td>0.308331</td>\n",
       "    </tr>\n",
       "    <tr>\n",
       "      <th>1</th>\n",
       "      <td>4.987167</td>\n",
       "      <td>0.589598</td>\n",
       "      <td>0.514913</td>\n",
       "    </tr>\n",
       "    <tr>\n",
       "      <th>2</th>\n",
       "      <td>6.412325</td>\n",
       "      <td>0.651744</td>\n",
       "      <td>0.730453</td>\n",
       "    </tr>\n",
       "    <tr>\n",
       "      <th>3</th>\n",
       "      <td>4.641998</td>\n",
       "      <td>0.581983</td>\n",
       "      <td>0.461400</td>\n",
       "    </tr>\n",
       "    <tr>\n",
       "      <th>4</th>\n",
       "      <td>2.793941</td>\n",
       "      <td>0.463688</td>\n",
       "      <td>0.191102</td>\n",
       "    </tr>\n",
       "  </tbody>\n",
       "</table>\n",
       "</div>"
      ],
      "text/plain": [
       "          z         x         y\n",
       "0  2.836772  0.271010  0.308331\n",
       "1  4.987167  0.589598  0.514913\n",
       "2  6.412325  0.651744  0.730453\n",
       "3  4.641998  0.581983  0.461400\n",
       "4  2.793941  0.463688  0.191102"
      ]
     },
     "execution_count": 2,
     "metadata": {},
     "output_type": "execute_result"
    }
   ],
   "source": [
    "data = pd.read_csv('reglab1.txt', delimiter='\\t')\n",
    "data.head()"
   ]
  },
  {
   "cell_type": "code",
   "execution_count": 3,
   "metadata": {},
   "outputs": [],
   "source": [
    "X = data.x\n",
    "Y = data.y\n",
    "Z = data.z\n",
    "XY = data.drop('z', axis=1)\n",
    "XZ = data.drop('y', axis=1)\n",
    "YZ = data.drop('x', axis=1)"
   ]
  },
  {
   "cell_type": "code",
   "execution_count": 4,
   "metadata": {},
   "outputs": [
    {
     "name": "stdout",
     "output_type": "stream",
     "text": [
      "Determination of z(x, y): 0.9686286787\n",
      "Determination of y(x, z): 0.9505275437\n",
      "Determination of x(y, z): 0.9186677284\n",
      "Determination of y(x): 0.0001560505\n",
      "Determination of z(x): 0.3659820403\n",
      "Determination of y(z): 0.6143421894\n"
     ]
    }
   ],
   "source": [
    "linear = LinearRegression()\n",
    "linear.fit(XY, Z)\n",
    "print('Determination of z(x, y):', round(linear.score(XY, Z), 10))\n",
    "\n",
    "linear = LinearRegression()\n",
    "linear.fit(XZ, Y)\n",
    "print('Determination of y(x, z):', round(linear.score(XZ, Y), 10))\n",
    "\n",
    "linear = LinearRegression()\n",
    "linear.fit(YZ, X)\n",
    "print('Determination of x(y, z):', round(linear.score(YZ, X), 10))\n",
    "\n",
    "linear = LinearRegression()\n",
    "linear.fit(X.values.reshape(-1, 1), Y)\n",
    "print('Determination of y(x):', round(linear.score(X.values.reshape(-1, 1), Y), 10))\n",
    "\n",
    "linear = LinearRegression()\n",
    "linear.fit(X.values.reshape(-1, 1), Z)\n",
    "print('Determination of z(x):', round(linear.score(X.values.reshape(-1, 1), Z), 10))\n",
    "\n",
    "linear = LinearRegression()\n",
    "linear.fit(Z.values.reshape(-1, 1), Y)\n",
    "print('Determination of y(z):', round(linear.score(Z.values.reshape(-1, 1), Y), 10))"
   ]
  }
 ],
 "metadata": {
  "kernelspec": {
   "display_name": "Python 3",
   "language": "python",
   "name": "python3"
  },
  "language_info": {
   "codemirror_mode": {
    "name": "ipython",
    "version": 3
   },
   "file_extension": ".py",
   "mimetype": "text/x-python",
   "name": "python",
   "nbconvert_exporter": "python",
   "pygments_lexer": "ipython3",
   "version": "3.7.2"
  }
 },
 "nbformat": 4,
 "nbformat_minor": 4
}
