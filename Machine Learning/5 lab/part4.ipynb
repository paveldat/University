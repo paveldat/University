{
 "cells": [
  {
   "cell_type": "code",
   "execution_count": 1,
   "metadata": {},
   "outputs": [],
   "source": [
    "from sklearn.linear_model import LinearRegression, Ridge\n",
    "import pandas as pd\n",
    "import numpy as np\n",
    "import matplotlib.pyplot as plt\n",
    "from sklearn.metrics import mean_squared_error\n",
    "from sklearn.model_selection import train_test_split"
   ]
  },
  {
   "cell_type": "code",
   "execution_count": 3,
   "metadata": {},
   "outputs": [
    {
     "data": {
      "text/html": [
       "<div>\n",
       "<style scoped>\n",
       "    .dataframe tbody tr th:only-of-type {\n",
       "        vertical-align: middle;\n",
       "    }\n",
       "\n",
       "    .dataframe tbody tr th {\n",
       "        vertical-align: top;\n",
       "    }\n",
       "\n",
       "    .dataframe thead th {\n",
       "        text-align: right;\n",
       "    }\n",
       "</style>\n",
       "<table border=\"1\" class=\"dataframe\">\n",
       "  <thead>\n",
       "    <tr style=\"text-align: right;\">\n",
       "      <th></th>\n",
       "      <th>GNP.deflator</th>\n",
       "      <th>GNP</th>\n",
       "      <th>Unemployed</th>\n",
       "      <th>Armed.Forces</th>\n",
       "      <th>Year</th>\n",
       "      <th>Employed</th>\n",
       "    </tr>\n",
       "  </thead>\n",
       "  <tbody>\n",
       "    <tr>\n",
       "      <th>0</th>\n",
       "      <td>83.0</td>\n",
       "      <td>234.289</td>\n",
       "      <td>235.6</td>\n",
       "      <td>159.0</td>\n",
       "      <td>1947</td>\n",
       "      <td>60.323</td>\n",
       "    </tr>\n",
       "    <tr>\n",
       "      <th>1</th>\n",
       "      <td>88.5</td>\n",
       "      <td>259.426</td>\n",
       "      <td>232.5</td>\n",
       "      <td>145.6</td>\n",
       "      <td>1948</td>\n",
       "      <td>61.122</td>\n",
       "    </tr>\n",
       "    <tr>\n",
       "      <th>2</th>\n",
       "      <td>88.2</td>\n",
       "      <td>258.054</td>\n",
       "      <td>368.2</td>\n",
       "      <td>161.6</td>\n",
       "      <td>1949</td>\n",
       "      <td>60.171</td>\n",
       "    </tr>\n",
       "    <tr>\n",
       "      <th>3</th>\n",
       "      <td>89.5</td>\n",
       "      <td>284.599</td>\n",
       "      <td>335.1</td>\n",
       "      <td>165.0</td>\n",
       "      <td>1950</td>\n",
       "      <td>61.187</td>\n",
       "    </tr>\n",
       "    <tr>\n",
       "      <th>4</th>\n",
       "      <td>96.2</td>\n",
       "      <td>328.975</td>\n",
       "      <td>209.9</td>\n",
       "      <td>309.9</td>\n",
       "      <td>1951</td>\n",
       "      <td>63.221</td>\n",
       "    </tr>\n",
       "    <tr>\n",
       "      <th>5</th>\n",
       "      <td>98.1</td>\n",
       "      <td>346.999</td>\n",
       "      <td>193.2</td>\n",
       "      <td>359.4</td>\n",
       "      <td>1952</td>\n",
       "      <td>63.639</td>\n",
       "    </tr>\n",
       "    <tr>\n",
       "      <th>6</th>\n",
       "      <td>99.0</td>\n",
       "      <td>365.385</td>\n",
       "      <td>187.0</td>\n",
       "      <td>354.7</td>\n",
       "      <td>1953</td>\n",
       "      <td>64.989</td>\n",
       "    </tr>\n",
       "    <tr>\n",
       "      <th>7</th>\n",
       "      <td>100.0</td>\n",
       "      <td>363.112</td>\n",
       "      <td>357.8</td>\n",
       "      <td>335.0</td>\n",
       "      <td>1954</td>\n",
       "      <td>63.761</td>\n",
       "    </tr>\n",
       "    <tr>\n",
       "      <th>8</th>\n",
       "      <td>101.2</td>\n",
       "      <td>397.469</td>\n",
       "      <td>290.4</td>\n",
       "      <td>304.8</td>\n",
       "      <td>1955</td>\n",
       "      <td>66.019</td>\n",
       "    </tr>\n",
       "    <tr>\n",
       "      <th>9</th>\n",
       "      <td>104.6</td>\n",
       "      <td>419.180</td>\n",
       "      <td>282.2</td>\n",
       "      <td>285.7</td>\n",
       "      <td>1956</td>\n",
       "      <td>67.857</td>\n",
       "    </tr>\n",
       "    <tr>\n",
       "      <th>10</th>\n",
       "      <td>108.4</td>\n",
       "      <td>442.769</td>\n",
       "      <td>293.6</td>\n",
       "      <td>279.8</td>\n",
       "      <td>1957</td>\n",
       "      <td>68.169</td>\n",
       "    </tr>\n",
       "    <tr>\n",
       "      <th>11</th>\n",
       "      <td>110.8</td>\n",
       "      <td>444.546</td>\n",
       "      <td>468.1</td>\n",
       "      <td>263.7</td>\n",
       "      <td>1958</td>\n",
       "      <td>66.513</td>\n",
       "    </tr>\n",
       "    <tr>\n",
       "      <th>12</th>\n",
       "      <td>112.6</td>\n",
       "      <td>482.704</td>\n",
       "      <td>381.3</td>\n",
       "      <td>255.2</td>\n",
       "      <td>1959</td>\n",
       "      <td>68.655</td>\n",
       "    </tr>\n",
       "    <tr>\n",
       "      <th>13</th>\n",
       "      <td>114.2</td>\n",
       "      <td>502.601</td>\n",
       "      <td>393.1</td>\n",
       "      <td>251.4</td>\n",
       "      <td>1960</td>\n",
       "      <td>69.564</td>\n",
       "    </tr>\n",
       "    <tr>\n",
       "      <th>14</th>\n",
       "      <td>115.7</td>\n",
       "      <td>518.173</td>\n",
       "      <td>480.6</td>\n",
       "      <td>257.2</td>\n",
       "      <td>1961</td>\n",
       "      <td>69.331</td>\n",
       "    </tr>\n",
       "    <tr>\n",
       "      <th>15</th>\n",
       "      <td>116.9</td>\n",
       "      <td>554.894</td>\n",
       "      <td>400.7</td>\n",
       "      <td>282.7</td>\n",
       "      <td>1962</td>\n",
       "      <td>70.551</td>\n",
       "    </tr>\n",
       "  </tbody>\n",
       "</table>\n",
       "</div>"
      ],
      "text/plain": [
       "    GNP.deflator      GNP  Unemployed  Armed.Forces  Year  Employed\n",
       "0           83.0  234.289       235.6         159.0  1947    60.323\n",
       "1           88.5  259.426       232.5         145.6  1948    61.122\n",
       "2           88.2  258.054       368.2         161.6  1949    60.171\n",
       "3           89.5  284.599       335.1         165.0  1950    61.187\n",
       "4           96.2  328.975       209.9         309.9  1951    63.221\n",
       "5           98.1  346.999       193.2         359.4  1952    63.639\n",
       "6           99.0  365.385       187.0         354.7  1953    64.989\n",
       "7          100.0  363.112       357.8         335.0  1954    63.761\n",
       "8          101.2  397.469       290.4         304.8  1955    66.019\n",
       "9          104.6  419.180       282.2         285.7  1956    67.857\n",
       "10         108.4  442.769       293.6         279.8  1957    68.169\n",
       "11         110.8  444.546       468.1         263.7  1958    66.513\n",
       "12         112.6  482.704       381.3         255.2  1959    68.655\n",
       "13         114.2  502.601       393.1         251.4  1960    69.564\n",
       "14         115.7  518.173       480.6         257.2  1961    69.331\n",
       "15         116.9  554.894       400.7         282.7  1962    70.551"
      ]
     },
     "execution_count": 3,
     "metadata": {},
     "output_type": "execute_result"
    }
   ],
   "source": [
    "data = pd.read_csv('longley.csv').drop('Population', axis=1)\n",
    "data"
   ]
  },
  {
   "cell_type": "code",
   "execution_count": 4,
   "metadata": {},
   "outputs": [],
   "source": [
    "X = data.drop('Employed', axis=1)\n",
    "y = data.Employed"
   ]
  },
  {
   "cell_type": "code",
   "execution_count": 5,
   "metadata": {},
   "outputs": [],
   "source": [
    "X_train, X_test, y_train, y_test = train_test_split(X, y, test_size=0.5, random_state=1479)"
   ]
  },
  {
   "cell_type": "code",
   "execution_count": 6,
   "metadata": {},
   "outputs": [
    {
     "data": {
      "text/plain": [
       "LinearRegression()"
      ]
     },
     "execution_count": 6,
     "metadata": {},
     "output_type": "execute_result"
    }
   ],
   "source": [
    "linear = LinearRegression()\n",
    "linear.fit(X_train, y_train)"
   ]
  },
  {
   "cell_type": "code",
   "execution_count": 7,
   "metadata": {},
   "outputs": [
    {
     "name": "stdout",
     "output_type": "stream",
     "text": [
      "Mean squad error on train data, linear regression: 0.016062203299101623\n",
      "Mean squad error on test data, linear regression: 0.17146444645945905\n"
     ]
    }
   ],
   "source": [
    "print('Mean squad error on train data, linear regression:', mean_squared_error(y_train, linear.predict(X_train)))\n",
    "print('Mean squad error on test data, linear regression:', mean_squared_error(y_test, linear.predict(X_test)))"
   ]
  },
  {
   "cell_type": "code",
   "execution_count": 8,
   "metadata": {},
   "outputs": [],
   "source": [
    "i_arr = range(0, 26)\n",
    "lamda_arr = [10**(-3 + 0.2*i) for i in i_arr]"
   ]
  },
  {
   "cell_type": "code",
   "execution_count": 9,
   "metadata": {},
   "outputs": [],
   "source": [
    "test_mse = []\n",
    "train_mse = []\n",
    "for lamda in lamda_arr:\n",
    "    ridge = Ridge(alpha=lamda, random_state=0)\n",
    "    ridge.fit(X_train, y_train)\n",
    "    test_mse.append(mean_squared_error(y_test, ridge.predict(X_test)))\n",
    "    train_mse.append(mean_squared_error(y_train, ridge.predict(X_train)))"
   ]
  },
  {
   "cell_type": "code",
   "execution_count": 10,
   "metadata": {},
   "outputs": [
    {
     "data": {
      "text/plain": [
       "<matplotlib.legend.Legend at 0x5e0c450>"
      ]
     },
     "execution_count": 10,
     "metadata": {},
     "output_type": "execute_result"
    },
    {
     "data": {
      "image/png": "[encoded data removed]",
      "text/plain": [
       "<Figure size 720x432 with 1 Axes>"
      ]
     },
     "metadata": {
      "needs_background": "light"
     },
     "output_type": "display_data"
    },
    {
     "data": {
      "image/png": "[encoded data removed]",
      "text/plain": [
       "<Figure size 720x432 with 1 Axes>"
      ]
     },
     "metadata": {
      "needs_background": "light"
     },
     "output_type": "display_data"
    }
   ],
   "source": [
    "plt.figure(figsize=(10,6))\n",
    "plt.plot(lamda_arr, train_mse, label='Mean squad error on train data, ridge regression')\n",
    "plt.plot(lamda_arr, test_mse, label='Mean squad error on test data, ridge regression')\n",
    "plt.xlabel('lambda')\n",
    "plt.ylabel('mse')\n",
    "plt.legend()\n",
    "plt.figure(figsize=(10,6))\n",
    "plt.plot(i_arr, train_mse, label='train, гребневая регрессия')\n",
    "plt.plot(i_arr, test_mse, label='test, гребневая регрессия')\n",
    "plt.xlabel('i')\n",
    "plt.ylabel('mse')\n",
    "plt.legend()"
   ]
  },
  {
   "cell_type": "code",
   "execution_count": 23,
   "metadata": {},
   "outputs": [
    {
     "name": "stdout",
     "output_type": "stream",
     "text": [
      "Min MSE, train, гребневая регрессия: 0.007086315256682494\n",
      "Min MSE, test, гребневая регрессия: 0.15653220214573219\n"
     ]
    }
   ],
   "source": [
    "print('Min MSE, train, гребневая регрессия:', min(train_mse))\n",
    "print('Min MSE, test, гребневая регрессия:',  min(test_mse))"
   ]
  },
  {
   "cell_type": "code",
   "execution_count": null,
   "metadata": {},
   "outputs": [],
   "source": []
  }
 ],
 "metadata": {
  "kernelspec": {
   "display_name": "Python 3",
   "language": "python",
   "name": "python3"
  },
  "language_info": {
   "codemirror_mode": {
    "name": "ipython",
    "version": 3
   },
   "file_extension": ".py",
   "mimetype": "text/x-python",
   "name": "python",
   "nbconvert_exporter": "python",
   "pygments_lexer": "ipython3",
   "version": "3.7.2"
  }
 },
 "nbformat": 4,
 "nbformat_minor": 4
}
