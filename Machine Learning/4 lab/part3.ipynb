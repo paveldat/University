{
 "cells": [
  {
   "cell_type": "code",
   "execution_count": 13,
   "metadata": {},
   "outputs": [],
   "source": [
    "import matplotlib.pyplot as plt\n",
    "import numpy as np\n",
    "import pandas as pd\n",
    "import random\n",
    "\n",
    "from sklearn.model_selection import train_test_split\n",
    "\n",
    "from sklearn.naive_bayes import GaussianNB\n",
    "from sklearn.tree import DecisionTreeClassifier\n",
    "from sklearn.neighbors import KNeighborsClassifier\n",
    "from sklearn.svm import SVC\n",
    "from sklearn.linear_model import LogisticRegression\n",
    "from sklearn.model_selection import RandomizedSearchCV, GridSearchCV\n",
    "\n",
    "from sklearn.metrics import accuracy_score\n",
    "from sklearn.metrics import balanced_accuracy_score\n",
    "\n",
    "import warnings\n",
    "warnings.filterwarnings('ignore')"
   ]
  },
  {
   "cell_type": "code",
   "execution_count": 14,
   "metadata": {},
   "outputs": [],
   "source": [
    "titanic_data = pd.read_csv('titanic.csv')"
   ]
  },
  {
   "cell_type": "code",
   "execution_count": 15,
   "metadata": {},
   "outputs": [
    {
     "data": {
      "text/plain": [
       "(891, 12)"
      ]
     },
     "execution_count": 15,
     "metadata": {},
     "output_type": "execute_result"
    }
   ],
   "source": [
    "titanic_data.shape"
   ]
  },
  {
   "cell_type": "code",
   "execution_count": 16,
   "metadata": {},
   "outputs": [],
   "source": [
    "X = titanic_data[['Pclass', 'Sex', 'Age', 'SibSp', 'Parch', 'Fare', 'Embarked']]\n",
    "y = titanic_data.Survived\n",
    "X = pd.get_dummies(X)\n",
    "X = X.fillna({'Age': X.Age.median()})"
   ]
  },
  {
   "cell_type": "code",
   "execution_count": 17,
   "metadata": {},
   "outputs": [],
   "source": [
    "X_train, X_test, y_train, y_test = train_test_split(X, y, test_size=0.3, random_state=239)"
   ]
  },
  {
   "cell_type": "code",
   "execution_count": 18,
   "metadata": {},
   "outputs": [],
   "source": [
    "class StackedClassifier:\n",
    "    def __init__(self, estimators, ratio=0.25):\n",
    "        self.estimators_ = estimators\n",
    "        self.ratio_ = ratio\n",
    "        \n",
    "    def fit(self, X, y):\n",
    "        predictions = []\n",
    "\n",
    "        for model in self.estimators_:\n",
    "            rs = np.random.RandomState()\n",
    "            # обучаем i-ю базовую модель\n",
    "            ind = rs.choice(range(len(y)), size=round(len(y) * self.ratio_), replace=False)\n",
    "            model.fit(X.iloc[ind], y.iloc[ind])\n",
    "            \n",
    "            predictions.append(model.predict_proba(X)[:, 0])\n",
    "        # предсказания базовых моделей имеют размерность (n_samples, 1)\n",
    "        # состыкуем эти предсказания в новый набор признаков размерности (n_samples, n_features)\n",
    "        new_X = np.stack(predictions, axis=1)\n",
    "        # обучим мета-модель, предсказывающую итоговый класс по предсказаниям базовых моделей\n",
    "        self.meta_lr_ = LogisticRegression(penalty=\"l2\", solver='lbfgs', C=1e4, max_iter=1000)\n",
    "        self.meta_lr_.fit(new_X, y)\n",
    "        \n",
    "    def predict_proba(self, X):\n",
    "        predictions = []\n",
    "        \n",
    "        for model in self.estimators_:\n",
    "            predictions.append(model.predict_proba(X)[:, 0])\n",
    "        \n",
    "        new_X = np.stack(predictions, axis=1)\n",
    "        return self.meta_lr_.predict_proba(new_X)\n",
    "    \n",
    "    def predict(self, X):\n",
    "        return np.argmax(self.predict_proba(X), axis=1)\n",
    "    \n",
    "    def get_params(self, deep=True):\n",
    "        return {\"ratio\": self.ratio_}\n",
    "\n",
    "    def set_params(self, **parameters):\n",
    "        for parameter, value in parameters.items():\n",
    "            setattr(self, parameter, value)\n",
    "        return self"
   ]
  },
  {
   "cell_type": "code",
   "execution_count": 20,
   "metadata": {},
   "outputs": [
    {
     "name": "stdout",
     "output_type": "stream",
     "text": [
      "Balanced accuracy score for GaussianNB: 0.7659273545483767\n"
     ]
    }
   ],
   "source": [
    "gaussian = GaussianNB()\n",
    "gaussian.fit(X_train, y_train)\n",
    "print('Balanced accuracy score for GaussianNB:', balanced_accuracy_score(y_test, gaussian.predict(X_test)))"
   ]
  },
  {
   "cell_type": "code",
   "execution_count": 21,
   "metadata": {},
   "outputs": [
    {
     "name": "stdout",
     "output_type": "stream",
     "text": [
      "Best params for KNN : {'metric': 'manhattan', 'n_neighbors': 7}\n",
      "Balanced accuracy score for KNeighborsClassifier: 0.7510125361620058\n"
     ]
    }
   ],
   "source": [
    "kNN = KNeighborsClassifier()\n",
    "parameters = {'n_neighbors': range(1, 30), \n",
    "              'metric': ['euclidean', 'manhattan', 'chebyshev']}\n",
    "grid_search_cv_kNN = GridSearchCV(kNN, parameters, cv=5, n_jobs=-1)\n",
    "grid_search_cv_kNN.fit(X_train, y_train)\n",
    "print('Best params for KNN :', grid_search_cv_kNN.best_params_)\n",
    "best_kNN = grid_search_cv_kNN.best_estimator_\n",
    "print('Balanced accuracy score for KNeighborsClassifier:', balanced_accuracy_score(y_test, best_kNN.predict(X_test)))"
   ]
  },
  {
   "cell_type": "code",
   "execution_count": 22,
   "metadata": {},
   "outputs": [
    {
     "name": "stdout",
     "output_type": "stream",
     "text": [
      "Best params for DecisionTree: {'criterion': 'entropy', 'max_depth': 8, 'min_samples_leaf': 4, 'min_samples_split': 17}\n",
      "Balanced accuracy score for DecisionTreeClassifier: 0.756702025072324\n"
     ]
    }
   ],
   "source": [
    "tree = DecisionTreeClassifier()\n",
    "parameters = {'criterion': ['gini', 'entropy'],\n",
    "              'max_depth': range(1, 20),\n",
    "              'min_samples_leaf': range(1, 20),\n",
    "              'min_samples_split': range(1, 20)}\n",
    "grid_search_cv_tree = GridSearchCV(tree, parameters, cv=5, n_jobs=-1)\n",
    "grid_search_cv_tree.fit(X_train, y_train)\n",
    "print('Best params for DecisionTree:', grid_search_cv_tree.best_params_)\n",
    "best_tree = grid_search_cv_tree.best_estimator_\n",
    "print('Balanced accuracy score for DecisionTreeClassifier:', balanced_accuracy_score(y_test, best_tree.predict(X_test)))"
   ]
  },
  {
   "cell_type": "code",
   "execution_count": 23,
   "metadata": {},
   "outputs": [
    {
     "name": "stdout",
     "output_type": "stream",
     "text": [
      "Best params for SVC: {'C': 311}\n",
      "Balanced accuracy score for SVC: 0.7524911603985857\n"
     ]
    }
   ],
   "source": [
    "svc = SVC(probability=True)\n",
    "grid_search_cv_svc = GridSearchCV(svc, {'C': range(1, 500)}, cv=5, n_jobs=-1)\n",
    "grid_search_cv_svc.fit(X_train, y_train)\n",
    "print('Best params for SVC:', grid_search_cv_svc.best_params_)\n",
    "best_svc = grid_search_cv_svc.best_estimator_\n",
    "print('Balanced accuracy score for SVC:', balanced_accuracy_score(y_test, best_svc.predict(X_test)))"
   ]
  },
  {
   "cell_type": "code",
   "execution_count": 24,
   "metadata": {},
   "outputs": [],
   "source": [
    "estimators = [gaussian, best_kNN, best_tree, best_svc]"
   ]
  },
  {
   "cell_type": "code",
   "execution_count": 25,
   "metadata": {},
   "outputs": [
    {
     "name": "stdout",
     "output_type": "stream",
     "text": [
      "Оптимальный размер данных для одной модели: 0.98\n",
      "Balanced accuracy score for meta-classifier: 0.7959819993571199\n"
     ]
    }
   ],
   "source": [
    "best_ratio = 0.1\n",
    "best_score = 0\n",
    "for ratio in np.arange(0.25, 1, 0.01):\n",
    "    slr = StackedClassifier(ratio=float(ratio), estimators=estimators)\n",
    "    slr.fit(X_train, y_train)\n",
    "    slr_predictions = slr.predict(X_test)\n",
    "    score = balanced_accuracy_score(y_test, slr_predictions)\n",
    "    if (best_score < score):\n",
    "        best_ratio = ratio\n",
    "        best_score = score\n",
    "print('Оптимальный размер данных для одной модели:', round(best_ratio, 2)) \n",
    "print('Balanced accuracy score for meta-classifier:', best_score)"
   ]
  },
  {
   "cell_type": "code",
   "execution_count": null,
   "metadata": {},
   "outputs": [],
   "source": []
  }
 ],
 "metadata": {
  "kernelspec": {
   "display_name": "Python 3",
   "language": "python",
   "name": "python3"
  },
  "language_info": {
   "codemirror_mode": {
    "name": "ipython",
    "version": 3
   },
   "file_extension": ".py",
   "mimetype": "text/x-python",
   "name": "python",
   "nbconvert_exporter": "python",
   "pygments_lexer": "ipython3",
   "version": "3.7.2"
  }
 },
 "nbformat": 4,
 "nbformat_minor": 4
}
