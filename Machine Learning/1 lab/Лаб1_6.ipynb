{
 "cells": [
  {
   "cell_type": "code",
   "execution_count": 1,
   "metadata": {},
   "outputs": [],
   "source": [
    "import math\n",
    "import numpy as np\n",
    "import pandas as pd\n",
    "import matplotlib.pyplot as plt\n",
    "import seaborn as sns\n",
    "from sklearn.tree import DecisionTreeClassifier\n",
    "from sklearn.neighbors import KNeighborsClassifier\n",
    "from sklearn.model_selection import GridSearchCV, RandomizedSearchCV\n",
    "from sklearn.metrics import make_scorer, fbeta_score, confusion_matrix, precision_recall_curve, auc, balanced_accuracy_score\n",
    "from sklearn.metrics import plot_confusion_matrix\n",
    "%config IPCompleter.greedy=True"
   ]
  },
  {
   "cell_type": "code",
   "execution_count": 2,
   "metadata": {},
   "outputs": [
    {
     "data": {
      "text/plain": [
       "0    89592\n",
       "1     6624\n",
       "Name: SeriousDlqin2yrs, dtype: int64"
      ]
     },
     "execution_count": 2,
     "metadata": {},
     "output_type": "execute_result"
    }
   ],
   "source": [
    "data = pd.read_csv('bank_scoring_train.csv', delimiter='\\t')\n",
    "X = data.drop('SeriousDlqin2yrs', axis=1)\n",
    "y = data.SeriousDlqin2yrs\n",
    "y.value_counts()"
   ]
  },
  {
   "cell_type": "code",
   "execution_count": 3,
   "metadata": {},
   "outputs": [
    {
     "data": {
      "text/plain": [
       "0    22407\n",
       "1     1646\n",
       "Name: SeriousDlqin2yrs, dtype: int64"
      ]
     },
     "execution_count": 3,
     "metadata": {},
     "output_type": "execute_result"
    }
   ],
   "source": [
    "test = pd.read_csv('bank_scoring_test.csv', delimiter='\\t')\n",
    "X_test = test.drop('SeriousDlqin2yrs', axis=1)\n",
    "y_test = test.SeriousDlqin2yrs\n",
    "y_test.value_counts()"
   ]
  },
  {
   "cell_type": "code",
   "execution_count": 4,
   "metadata": {},
   "outputs": [],
   "source": [
    "f2score = make_scorer(fbeta_score, beta=2, average='binary')"
   ]
  },
  {
   "cell_type": "markdown",
   "metadata": {},
   "source": [
    "# Дерево решений"
   ]
  },
  {
   "cell_type": "code",
   "execution_count": 5,
   "metadata": {},
   "outputs": [],
   "source": [
    "clf = DecisionTreeClassifier()\n",
    "parameters = {'criterion': ['gini', 'entropy'],\n",
    "              'max_depth': range(1, 20),\n",
    "              'min_samples_leaf': range(1, 100),\n",
    "              'min_samples_split': range(2, 100)}\n",
    "rand_search_cv_clf = RandomizedSearchCV(clf, parameters, n_iter=100, scoring=f2score, cv=5, n_jobs=-1)"
   ]
  },
  {
   "cell_type": "code",
   "execution_count": 6,
   "metadata": {},
   "outputs": [
    {
     "data": {
      "text/plain": [
       "{'min_samples_split': 17,\n",
       " 'min_samples_leaf': 2,\n",
       " 'max_depth': 18,\n",
       " 'criterion': 'entropy'}"
      ]
     },
     "execution_count": 6,
     "metadata": {},
     "output_type": "execute_result"
    }
   ],
   "source": [
    "rand_search_cv_clf.fit(X, y)\n",
    "best_tree = rand_search_cv_clf.best_estimator_\n",
    "rand_search_cv_clf.best_params_"
   ]
  },
  {
   "cell_type": "code",
   "execution_count": 7,
   "metadata": {},
   "outputs": [
    {
     "name": "stdout",
     "output_type": "stream",
     "text": [
      "Train, f2score: 0.6005875137194138\n",
      "Test, f2score: 0.42273673257023925\n"
     ]
    }
   ],
   "source": [
    "print('Train, f2score:', f2score(best_tree, X, y))\n",
    "print('Test, f2score:', f2score(best_tree, X_test, y_test))"
   ]
  },
  {
   "cell_type": "code",
   "execution_count": 8,
   "metadata": {},
   "outputs": [
    {
     "data": {
      "image/png": "[encoded data removed]",
      "text/plain": [
       "<Figure size 432x288 with 1 Axes>"
      ]
     },
     "metadata": {
      "needs_background": "light"
     },
     "output_type": "display_data"
    }
   ],
   "source": [
    "y_pred = best_tree.predict(X_test)\n",
    "y_pred_proba = best_tree.predict_proba(X_test)\n",
    "\n",
    "cf = confusion_matrix(y_test, y_pred)\n",
    "tn, fp, fn, tp = cf.ravel() \n",
    "P = tp + fn\n",
    "N = fp + tn\n",
    "\n",
    "precision, recall, thresholds = precision_recall_curve(y_test, y_pred_proba[:, 1])\n",
    "pr_auc = auc(recall, precision)\n",
    "# pr_auc = 0\n",
    "plt.figure()\n",
    "plt.plot(recall, precision, color='darkorange', \n",
    "         label='PR curve (area = %0.2f)' % pr_auc)\n",
    "plt.plot([0, 1], [P / (P+N), P / (P+N)], color='navy', linestyle='--')\n",
    "plt.xlim([0.0, 1.0])\n",
    "plt.ylim([P / (P+N) - 0.05, 1.05])\n",
    "plt.xlabel('Recall')\n",
    "plt.ylabel('Precision')\n",
    "_ = plt.legend(loc=\"best\")"
   ]
  },
  {
   "cell_type": "code",
   "execution_count": 9,
   "metadata": {},
   "outputs": [
    {
     "data": {
      "image/png": "[encoded data removed]",
      "text/plain": [
       "<Figure size 432x288 with 2 Axes>"
      ]
     },
     "metadata": {
      "needs_background": "light"
     },
     "output_type": "display_data"
    }
   ],
   "source": [
    "_ = plot_confusion_matrix(best_tree, X_test, y_test, display_labels=['0', '1'], cmap=plt.cm.Blues)"
   ]
  },
  {
   "cell_type": "code",
   "execution_count": 15,
   "metadata": {},
   "outputs": [
    {
     "data": {
      "text/plain": [
       "0.9397164594853032"
      ]
     },
     "execution_count": 15,
     "metadata": {},
     "output_type": "execute_result"
    }
   ],
   "source": [
    "best_tree.score(X_test, y_test)"
   ]
  },
  {
   "cell_type": "markdown",
   "metadata": {},
   "source": [
    "# kNN"
   ]
  },
  {
   "cell_type": "code",
   "execution_count": 10,
   "metadata": {},
   "outputs": [],
   "source": [
    "kNN = KNeighborsClassifier()\n",
    "cv = 5\n",
    "parameters = {'n_neighbors': range(1, 10), \n",
    "              'metric': ['euclidean', 'manhattan', 'chebyshev']}\n",
    "grid_search_cv_kNN = GridSearchCV(kNN, parameters, scoring=f2score, cv=cv, n_jobs=-1)"
   ]
  },
  {
   "cell_type": "code",
   "execution_count": 11,
   "metadata": {},
   "outputs": [
    {
     "data": {
      "text/plain": [
       "{'metric': 'manhattan', 'n_neighbors': 1}"
      ]
     },
     "execution_count": 11,
     "metadata": {},
     "output_type": "execute_result"
    }
   ],
   "source": [
    "grid_search_cv_kNN.fit(X, y)\n",
    "best_kNN = grid_search_cv_kNN.best_estimator_\n",
    "grid_search_cv_kNN.best_params_"
   ]
  },
  {
   "cell_type": "code",
   "execution_count": 12,
   "metadata": {},
   "outputs": [
    {
     "name": "stdout",
     "output_type": "stream",
     "text": [
      "Train, f2score: 0.9998792416374834\n",
      "Test, f2score: 0.6152491192752895\n"
     ]
    }
   ],
   "source": [
    "print('Train, f2score:', f2score(best_kNN, X, y))\n",
    "print('Test, f2score:', f2score(best_kNN, X_test, y_test))"
   ]
  },
  {
   "cell_type": "code",
   "execution_count": 13,
   "metadata": {},
   "outputs": [
    {
     "data": {
      "image/png": "[encoded data removed]",
      "text/plain": [
       "<Figure size 432x288 with 1 Axes>"
      ]
     },
     "metadata": {
      "needs_background": "light"
     },
     "output_type": "display_data"
    }
   ],
   "source": [
    "y_pred = best_kNN.predict(X_test)\n",
    "y_pred_proba = best_kNN.predict_proba(X_test)\n",
    "\n",
    "cf = confusion_matrix(y_test, y_pred)\n",
    "tn, fp, fn, tp = cf.ravel() \n",
    "P = tp + fn\n",
    "N = fp + tn\n",
    "\n",
    "precision, recall, thresholds = precision_recall_curve(y_test, y_pred_proba[:, 1])\n",
    "pr_auc = auc(recall, precision)\n",
    "plt.figure()\n",
    "plt.plot(recall, precision, color='darkorange', \n",
    "         label='PR curve (area = %0.2f)' % pr_auc)\n",
    "plt.plot([0, 1], [P / (P+N), P / (P+N)], color='navy', linestyle='--')\n",
    "plt.xlim([0.0, 1.0])\n",
    "plt.ylim([P / (P+N) - 0.05, 1.05])\n",
    "plt.xlabel('Recall')\n",
    "plt.ylabel('Precision')\n",
    "_ = plt.legend(loc=\"best\")"
   ]
  },
  {
   "cell_type": "code",
   "execution_count": 14,
   "metadata": {},
   "outputs": [
    {
     "data": {
      "image/png": "[encoded data removed]",
      "text/plain": [
       "<Figure size 432x288 with 2 Axes>"
      ]
     },
     "metadata": {
      "needs_background": "light"
     },
     "output_type": "display_data"
    }
   ],
   "source": [
    "_ = plot_confusion_matrix(best_kNN, X_test, y_test, display_labels=['0', '1'], cmap=plt.cm.Blues, )"
   ]
  },
  {
   "cell_type": "code",
   "execution_count": 16,
   "metadata": {},
   "outputs": [
    {
     "data": {
      "text/plain": [
       "0.9561801022741446"
      ]
     },
     "execution_count": 16,
     "metadata": {},
     "output_type": "execute_result"
    }
   ],
   "source": [
    "best_kNN.score(X_test, y_test)"
   ]
  },
  {
   "cell_type": "code",
   "execution_count": null,
   "metadata": {},
   "outputs": [],
   "source": []
  }
 ],
 "metadata": {
  "kernelspec": {
   "display_name": "Python 3",
   "language": "python",
   "name": "python3"
  },
  "language_info": {
   "codemirror_mode": {
    "name": "ipython",
    "version": 3
   },
   "file_extension": ".py",
   "mimetype": "text/x-python",
   "name": "python",
   "nbconvert_exporter": "python",
   "pygments_lexer": "ipython3",
   "version": "3.7.2"
  }
 },
 "nbformat": 4,
 "nbformat_minor": 4
}
