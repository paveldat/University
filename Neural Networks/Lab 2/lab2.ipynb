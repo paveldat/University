{
  "nbformat": 4,
  "nbformat_minor": 0,
  "metadata": {
    "colab": {
      "name": "lab2_Дац.ipynb",
      "provenance": []
    },
    "kernelspec": {
      "name": "python3",
      "display_name": "Python 3"
    }
  },
  "cells": [
    {
      "cell_type": "markdown",
      "metadata": {
        "id": "2ULoA-7gIHVw"
      },
      "source": [
        "## Выявление картинок, которые не содержат рукописные цифры, с помощью автокодировщика."
      ]
    },
    {
      "cell_type": "markdown",
      "metadata": {
        "id": "621rhhLaILXy"
      },
      "source": [
        "Импортируем библиотеки и данные"
      ]
    },
    {
      "cell_type": "code",
      "metadata": {
        "id": "H-q7HhcZHzkl",
        "colab": {
          "base_uri": "https://localhost:8080/"
        },
        "outputId": "9def7466-ebc6-4886-e434-ec97bc79a907"
      },
      "source": [
        "import tensorflow as tf\n",
        "import matplotlib.pyplot as plt\n",
        "import numpy as np\n",
        "\n",
        "from tensorflow.keras import datasets, layers, models, losses\n",
        "\n",
        "from tensorflow.keras.datasets import fashion_mnist\n",
        "from tensorflow.keras.models import Model\n",
        "\n",
        "mnist = tf.keras.datasets.mnist\n",
        "\n",
        "(digits_train, digits_train_labels), (digits_test, digits_test_labels) = tf.keras.datasets.mnist.load_data()\n",
        "digits_train_norm, digits_test_norm = digits_train / 255.0, digits_test / 255.0\n",
        "\n",
        "(fashion_train, _), (fashion_test, _) = fashion_mnist.load_data()\n",
        "fashion_train_norm, fashion_test_norm = fashion_train / 255.0, fashion_test / 255.0"
      ],
      "execution_count": 1,
      "outputs": [
        {
          "output_type": "stream",
          "name": "stdout",
          "text": [
            "Downloading data from https://storage.googleapis.com/tensorflow/tf-keras-datasets/mnist.npz\n",
            "11493376/11490434 [==============================] - 0s 0us/step\n",
            "11501568/11490434 [==============================] - 0s 0us/step\n",
            "Downloading data from https://storage.googleapis.com/tensorflow/tf-keras-datasets/train-labels-idx1-ubyte.gz\n",
            "32768/29515 [=================================] - 0s 0us/step\n",
            "40960/29515 [=========================================] - 0s 0us/step\n",
            "Downloading data from https://storage.googleapis.com/tensorflow/tf-keras-datasets/train-images-idx3-ubyte.gz\n",
            "26427392/26421880 [==============================] - 0s 0us/step\n",
            "26435584/26421880 [==============================] - 0s 0us/step\n",
            "Downloading data from https://storage.googleapis.com/tensorflow/tf-keras-datasets/t10k-labels-idx1-ubyte.gz\n",
            "16384/5148 [===============================================================================================] - 0s 0us/step\n",
            "Downloading data from https://storage.googleapis.com/tensorflow/tf-keras-datasets/t10k-images-idx3-ubyte.gz\n",
            "4423680/4422102 [==============================] - 0s 0us/step\n",
            "4431872/4422102 [==============================] - 0s 0us/step\n"
          ]
        }
      ]
    },
    {
      "cell_type": "markdown",
      "metadata": {
        "id": "sAZMCEPAIQUQ"
      },
      "source": [
        "Создадим класс автокодировщика, как в [туториале](https://www.tensorflow.org/tutorials/generative/autoencoder)."
      ]
    },
    {
      "cell_type": "code",
      "metadata": {
        "id": "HWNqCX6kIQBW"
      },
      "source": [
        "latent_dim = 64 \n",
        "\n",
        "class Autoencoder(Model):\n",
        "  def __init__(self, latent_dim):\n",
        "    super(Autoencoder, self).__init__()\n",
        "    self.latent_dim = latent_dim   \n",
        "    self.encoder = tf.keras.Sequential([\n",
        "      layers.Flatten(),\n",
        "      layers.Dense(latent_dim, activation='relu'),\n",
        "    ])\n",
        "    self.decoder = tf.keras.Sequential([\n",
        "      layers.Dense(784, activation='sigmoid'),\n",
        "      layers.Reshape((28, 28))\n",
        "    ])\n",
        "\n",
        "  def call(self, x):\n",
        "    encoded = self.encoder(x)\n",
        "    decoded = self.decoder(encoded)\n",
        "    return decoded\n",
        "\n",
        "autoencoder = Autoencoder(latent_dim) "
      ],
      "execution_count": 2,
      "outputs": []
    },
    {
      "cell_type": "code",
      "metadata": {
        "id": "FA-6lBpGIen7",
        "colab": {
          "base_uri": "https://localhost:8080/"
        },
        "outputId": "c450c5c3-912b-484b-f43e-f22179d61eb1"
      },
      "source": [
        "autoencoder.compile(optimizer='adam', loss=losses.MeanSquaredError())\n",
        "\n",
        "history = autoencoder.fit(digits_train_norm, digits_train_norm, \n",
        "          epochs=20, \n",
        "          batch_size=512,\n",
        "          validation_data=(digits_test_norm, digits_test_norm),\n",
        "          shuffle=True)"
      ],
      "execution_count": 3,
      "outputs": [
        {
          "output_type": "stream",
          "name": "stdout",
          "text": [
            "Epoch 1/20\n",
            "118/118 [==============================] - 3s 15ms/step - loss: 0.0792 - val_loss: 0.0450\n",
            "Epoch 2/20\n",
            "118/118 [==============================] - 2s 13ms/step - loss: 0.0374 - val_loss: 0.0311\n",
            "Epoch 3/20\n",
            "118/118 [==============================] - 2s 13ms/step - loss: 0.0279 - val_loss: 0.0243\n",
            "Epoch 4/20\n",
            "118/118 [==============================] - 2s 13ms/step - loss: 0.0223 - val_loss: 0.0197\n",
            "Epoch 5/20\n",
            "118/118 [==============================] - 2s 13ms/step - loss: 0.0184 - val_loss: 0.0164\n",
            "Epoch 6/20\n",
            "118/118 [==============================] - 2s 13ms/step - loss: 0.0155 - val_loss: 0.0139\n",
            "Epoch 7/20\n",
            "118/118 [==============================] - 2s 13ms/step - loss: 0.0132 - val_loss: 0.0120\n",
            "Epoch 8/20\n",
            "118/118 [==============================] - 2s 13ms/step - loss: 0.0115 - val_loss: 0.0105\n",
            "Epoch 9/20\n",
            "118/118 [==============================] - 2s 14ms/step - loss: 0.0101 - val_loss: 0.0092\n",
            "Epoch 10/20\n",
            "118/118 [==============================] - 2s 13ms/step - loss: 0.0090 - val_loss: 0.0083\n",
            "Epoch 11/20\n",
            "118/118 [==============================] - 2s 13ms/step - loss: 0.0081 - val_loss: 0.0075\n",
            "Epoch 12/20\n",
            "118/118 [==============================] - 2s 14ms/step - loss: 0.0074 - val_loss: 0.0069\n",
            "Epoch 13/20\n",
            "118/118 [==============================] - 2s 14ms/step - loss: 0.0069 - val_loss: 0.0064\n",
            "Epoch 14/20\n",
            "118/118 [==============================] - 2s 14ms/step - loss: 0.0064 - val_loss: 0.0060\n",
            "Epoch 15/20\n",
            "118/118 [==============================] - 2s 14ms/step - loss: 0.0061 - val_loss: 0.0057\n",
            "Epoch 16/20\n",
            "118/118 [==============================] - 2s 14ms/step - loss: 0.0058 - val_loss: 0.0054\n",
            "Epoch 17/20\n",
            "118/118 [==============================] - 2s 13ms/step - loss: 0.0055 - val_loss: 0.0052\n",
            "Epoch 18/20\n",
            "118/118 [==============================] - 2s 13ms/step - loss: 0.0053 - val_loss: 0.0050\n",
            "Epoch 19/20\n",
            "118/118 [==============================] - 2s 14ms/step - loss: 0.0051 - val_loss: 0.0049\n",
            "Epoch 20/20\n",
            "118/118 [==============================] - 2s 14ms/step - loss: 0.0050 - val_loss: 0.0048\n"
          ]
        }
      ]
    },
    {
      "cell_type": "markdown",
      "metadata": {
        "id": "4wl_7XPbKF9z"
      },
      "source": [
        "Демонстрация работы автокодировщика."
      ]
    },
    {
      "cell_type": "code",
      "metadata": {
        "id": "p5PsuPY7KF3W"
      },
      "source": [
        "encoded_imgs = autoencoder.encoder(digits_test_norm).numpy()\n",
        "decoded_imgs = autoencoder.decoder(encoded_imgs).numpy()"
      ],
      "execution_count": 4,
      "outputs": []
    },
    {
      "cell_type": "code",
      "metadata": {
        "id": "J9ZNqM2vKJGS",
        "colab": {
          "base_uri": "https://localhost:8080/",
          "height": 264
        },
        "outputId": "4a6dfe46-bc24-4b5c-f1ff-789815a8f756"
      },
      "source": [
        "n = 10\n",
        "plt.figure(figsize=(20, 4))\n",
        "for i in range(n):\n",
        "  # display original\n",
        "  ax = plt.subplot(2, n, i + 1)\n",
        "  plt.imshow(digits_test_norm[i])\n",
        "  plt.title(\"original\")\n",
        "  plt.gray()\n",
        "  ax.get_xaxis().set_visible(False)\n",
        "  ax.get_yaxis().set_visible(False)\n",
        "\n",
        "  # display reconstruction\n",
        "  ax = plt.subplot(2, n, i + 1 + n)\n",
        "  plt.imshow(decoded_imgs[i])\n",
        "  plt.title(\"reconstructed\")\n",
        "  plt.gray()\n",
        "  ax.get_xaxis().set_visible(False)\n",
        "  ax.get_yaxis().set_visible(False)\n",
        "plt.show()"
      ],
      "execution_count": 5,
      "outputs": [
        {
          "output_type": "display_data",
          "data": {
            "image/png": "[encoded data removed]",
            "text/plain": [
              "<Figure size 1440x288 with 20 Axes>"
            ]
          },
          "metadata": {
            "needs_background": "light"
          }
        }
      ]
    },
    {
      "cell_type": "markdown",
      "metadata": {
        "id": "AtuV2ZusKOs8"
      },
      "source": [
        "Определим критерий (пороговое значение threshold), по которому будем определять, является ли изображение цифрой."
      ]
    },
    {
      "cell_type": "code",
      "metadata": {
        "id": "KJ6o7xhnKLjj",
        "colab": {
          "base_uri": "https://localhost:8080/"
        },
        "outputId": "989f3ae1-93bf-47ff-bde5-25775619348e"
      },
      "source": [
        "reconstructions = autoencoder.predict(digits_train_norm)\n",
        "train_loss = tf.keras.losses.mae(reconstructions, digits_train_norm)\n",
        "\n",
        "a=0\n",
        "for i in range(len(train_loss)):\n",
        "  a+=np.mean(train_loss[i]) + np.std(train_loss[i])\n",
        "print(a/len(train_loss))\n",
        "\n",
        "threshold = np.mean(train_loss) + 3*np.std(train_loss)\n",
        "print(\"Threshold: \", threshold)"
      ],
      "execution_count": 6,
      "outputs": [
        {
          "output_type": "stream",
          "name": "stdout",
          "text": [
            "0.04427621679114552\n",
            "Threshold:  0.09230417859969058\n"
          ]
        }
      ]
    },
    {
      "cell_type": "markdown",
      "metadata": {
        "id": "HHTwx3aiKUBJ"
      },
      "source": [
        "Проверим использование этого критерия на выборке из 1000 изображений-аномалий (изображений одежды)."
      ]
    },
    {
      "cell_type": "code",
      "metadata": {
        "id": "uffkr4-VKRmo",
        "colab": {
          "base_uri": "https://localhost:8080/"
        },
        "outputId": "406fd979-487d-4818-a07c-a643a4388fd0"
      },
      "source": [
        "print(\"Size of dataset with anomalies: {}\".format(len(fashion_train_norm[0:1000])))\n",
        "\n",
        "detected_count = 0\n",
        "\n",
        "for s in fashion_train_norm[0:1000]:\n",
        "  pred = autoencoder.predict(np.array([s]))[0]\n",
        "  loss = tf.keras.losses.mae(pred, s)\n",
        "\n",
        "  th = float(np.mean(loss) + np.std(loss))\n",
        "\n",
        "  if th > threshold:\n",
        "    detected_count += 1\n",
        "\n",
        "print(\"Successfully detected anomalies: {}\".format(detected_count))"
      ],
      "execution_count": 7,
      "outputs": [
        {
          "output_type": "stream",
          "name": "stdout",
          "text": [
            "Size of dataset with anomalies: 1000\n",
            "Successfully detected anomalies: 995\n"
          ]
        }
      ]
    },
    {
      "cell_type": "markdown",
      "metadata": {
        "id": "olfCQ5BBKYfN"
      },
      "source": [
        "Проверим использование этого критерия на выборке из 1000 нормальных изображений (изображений цифр)."
      ]
    },
    {
      "cell_type": "code",
      "metadata": {
        "id": "0JWgJ9WUKWXl",
        "colab": {
          "base_uri": "https://localhost:8080/"
        },
        "outputId": "9be153ed-11f9-467e-858c-7ca5b2601818"
      },
      "source": [
        "print(\"Size of dataset with digits: {}\".format(len(digits_test_norm[0:1000])))\n",
        "\n",
        "detected_count = 0\n",
        "\n",
        "for s in digits_test_norm[0:1000]:\n",
        "  pred = autoencoder.predict(np.array([s]))[0]\n",
        "  loss = tf.keras.losses.mae(pred, s)\n",
        "\n",
        "  th = float(np.mean(loss) + np.std(loss))\n",
        "\n",
        "  if th < threshold:\n",
        "    detected_count += 1\n",
        "\n",
        "print(\"Successfully detected digits: {}\".format(detected_count))"
      ],
      "execution_count": 8,
      "outputs": [
        {
          "output_type": "stream",
          "name": "stdout",
          "text": [
            "Size of dataset with digits: 1000\n",
            "Successfully detected digits: 998\n"
          ]
        }
      ]
    }
  ]
}