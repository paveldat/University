{
  "nbformat": 4,
  "nbformat_minor": 0,
  "metadata": {
    "colab": {
      "name": "lab2_Дац.ipynb",
      "provenance": []
    },
    "kernelspec": {
      "name": "python3",
      "display_name": "Python 3"
    }
  },
  "cells": [
    {
      "cell_type": "markdown",
      "metadata": {
        "id": "2ULoA-7gIHVw"
      },
      "source": [
        "## Выявление картинок, которые не содержат рукописные цифры, с помощью автокодировщика."
      ]
    },
    {
      "cell_type": "markdown",
      "metadata": {
        "id": "621rhhLaILXy"
      },
      "source": [
        "Импортируем библиотеки и данные"
      ]
    },
    {
      "cell_type": "code",
      "metadata": {
        "id": "H-q7HhcZHzkl"
      },
      "source": [
        "import tensorflow as tf\n",
        "import matplotlib.pyplot as plt\n",
        "import numpy as np\n",
        "\n",
        "from tensorflow.keras import datasets, layers, models, losses\n",
        "\n",
        "from tensorflow.keras.datasets import fashion_mnist\n",
        "from tensorflow.keras.models import Model\n",
        "\n",
        "mnist = tf.keras.datasets.mnist\n",
        "\n",
        "(digits_train, digits_train_labels), (digits_test, digits_test_labels) = tf.keras.datasets.mnist.load_data()\n",
        "digits_train_norm, digits_test_norm = digits_train / 255.0, digits_test / 255.0\n",
        "\n",
        "(fashion_train, _), (fashion_test, _) = fashion_mnist.load_data()\n",
        "fashion_train_norm, fashion_test_norm = fashion_train / 255.0, fashion_test / 255.0"
      ],
      "execution_count": 12,
      "outputs": []
    },
    {
      "cell_type": "markdown",
      "metadata": {
        "id": "sAZMCEPAIQUQ"
      },
      "source": [
        "Используем [туториал](https://www.tensorflow.org/tutorials/generative/autoencoder). Создадим класс автокодировщика."
      ]
    },
    {
      "cell_type": "code",
      "metadata": {
        "id": "HWNqCX6kIQBW"
      },
      "source": [
        "latent_dim = 64 \n",
        "\n",
        "class Autoencoder(Model):\n",
        "  def __init__(self, latent_dim):\n",
        "    super(Autoencoder, self).__init__()\n",
        "    self.latent_dim = latent_dim   \n",
        "    self.encoder = tf.keras.Sequential([\n",
        "      layers.Flatten(),\n",
        "      layers.Dense(latent_dim, activation='relu'),\n",
        "    ])\n",
        "    self.decoder = tf.keras.Sequential([\n",
        "      layers.Dense(784, activation='sigmoid'),\n",
        "      layers.Reshape((28, 28))\n",
        "    ])\n",
        "\n",
        "  def call(self, x):\n",
        "    encoded = self.encoder(x)\n",
        "    decoded = self.decoder(encoded)\n",
        "    return decoded\n",
        "\n",
        "autoencoder = Autoencoder(latent_dim) "
      ],
      "execution_count": 13,
      "outputs": []
    },
    {
      "cell_type": "code",
      "metadata": {
        "id": "FA-6lBpGIen7",
        "colab": {
          "base_uri": "https://localhost:8080/"
        },
        "outputId": "9914ab37-82d9-41fd-cdbf-8782c1017d94"
      },
      "source": [
        "autoencoder.compile(optimizer='adam', loss=losses.MeanSquaredError())\n",
        "\n",
        "history = autoencoder.fit(digits_train_norm, digits_train_norm, \n",
        "          epochs=20, \n",
        "          batch_size=512,\n",
        "          validation_data=(digits_test_norm, digits_test_norm),\n",
        "          shuffle=True)"
      ],
      "execution_count": 14,
      "outputs": [
        {
          "output_type": "stream",
          "name": "stdout",
          "text": [
            "Epoch 1/20\n",
            "118/118 [==============================] - 2s 14ms/step - loss: 0.0816 - val_loss: 0.0454\n",
            "Epoch 2/20\n",
            "118/118 [==============================] - 2s 13ms/step - loss: 0.0373 - val_loss: 0.0307\n",
            "Epoch 3/20\n",
            "118/118 [==============================] - 2s 13ms/step - loss: 0.0274 - val_loss: 0.0237\n",
            "Epoch 4/20\n",
            "118/118 [==============================] - 2s 13ms/step - loss: 0.0218 - val_loss: 0.0192\n",
            "Epoch 5/20\n",
            "118/118 [==============================] - 2s 13ms/step - loss: 0.0180 - val_loss: 0.0161\n",
            "Epoch 6/20\n",
            "118/118 [==============================] - 2s 13ms/step - loss: 0.0153 - val_loss: 0.0137\n",
            "Epoch 7/20\n",
            "118/118 [==============================] - 1s 13ms/step - loss: 0.0131 - val_loss: 0.0119\n",
            "Epoch 8/20\n",
            "118/118 [==============================] - 1s 13ms/step - loss: 0.0115 - val_loss: 0.0105\n",
            "Epoch 9/20\n",
            "118/118 [==============================] - 2s 13ms/step - loss: 0.0102 - val_loss: 0.0093\n",
            "Epoch 10/20\n",
            "118/118 [==============================] - 2s 13ms/step - loss: 0.0091 - val_loss: 0.0084\n",
            "Epoch 11/20\n",
            "118/118 [==============================] - 2s 13ms/step - loss: 0.0082 - val_loss: 0.0076\n",
            "Epoch 12/20\n",
            "118/118 [==============================] - 1s 13ms/step - loss: 0.0075 - val_loss: 0.0070\n",
            "Epoch 13/20\n",
            "118/118 [==============================] - 2s 13ms/step - loss: 0.0069 - val_loss: 0.0065\n",
            "Epoch 14/20\n",
            "118/118 [==============================] - 2s 13ms/step - loss: 0.0064 - val_loss: 0.0060\n",
            "Epoch 15/20\n",
            "118/118 [==============================] - 2s 13ms/step - loss: 0.0061 - val_loss: 0.0057\n",
            "Epoch 16/20\n",
            "118/118 [==============================] - 2s 13ms/step - loss: 0.0058 - val_loss: 0.0054\n",
            "Epoch 17/20\n",
            "118/118 [==============================] - 2s 13ms/step - loss: 0.0055 - val_loss: 0.0052\n",
            "Epoch 18/20\n",
            "118/118 [==============================] - 2s 13ms/step - loss: 0.0053 - val_loss: 0.0050\n",
            "Epoch 19/20\n",
            "118/118 [==============================] - 2s 13ms/step - loss: 0.0051 - val_loss: 0.0049\n",
            "Epoch 20/20\n",
            "118/118 [==============================] - 2s 13ms/step - loss: 0.0050 - val_loss: 0.0048\n"
          ]
        }
      ]
    },
    {
      "cell_type": "markdown",
      "metadata": {
        "id": "4wl_7XPbKF9z"
      },
      "source": [
        "Проверим работу автокодировщика"
      ]
    },
    {
      "cell_type": "code",
      "metadata": {
        "id": "p5PsuPY7KF3W"
      },
      "source": [
        "encoded_imgs = autoencoder.encoder(digits_test_norm).numpy()\n",
        "decoded_imgs = autoencoder.decoder(encoded_imgs).numpy()"
      ],
      "execution_count": 15,
      "outputs": []
    },
    {
      "cell_type": "code",
      "metadata": {
        "id": "J9ZNqM2vKJGS",
        "colab": {
          "base_uri": "https://localhost:8080/",
          "height": 264
        },
        "outputId": "9acc5986-e8e2-4e64-f3d5-f866f1b245b0"
      },
      "source": [
        "n = 10\n",
        "plt.figure(figsize=(20, 4))\n",
        "for i in range(n):\n",
        "  # display original\n",
        "  ax = plt.subplot(2, n, i + 1)\n",
        "  plt.imshow(digits_test_norm[i])\n",
        "  plt.title(\"original\")\n",
        "  plt.gray()\n",
        "  ax.get_xaxis().set_visible(False)\n",
        "  ax.get_yaxis().set_visible(False)\n",
        "\n",
        "  # display reconstruction\n",
        "  ax = plt.subplot(2, n, i + 1 + n)\n",
        "  plt.imshow(decoded_imgs[i])\n",
        "  plt.title(\"reconstructed\")\n",
        "  plt.gray()\n",
        "  ax.get_xaxis().set_visible(False)\n",
        "  ax.get_yaxis().set_visible(False)\n",
        "plt.show()"
      ],
      "execution_count": 16,
      "outputs": [
        {
          "output_type": "display_data",
          "data": {
            "image/png": "[encoded data removed]",
            "text/plain": [
              "<Figure size 1440x288 with 20 Axes>"
            ]
          },
          "metadata": {
            "needs_background": "light"
          }
        }
      ]
    },
    {
      "cell_type": "markdown",
      "metadata": {
        "id": "AtuV2ZusKOs8"
      },
      "source": [
        "Определим критерий (пороговое значение threshold), по которому будем определять, является ли изображение цифрой."
      ]
    },
    {
      "cell_type": "code",
      "metadata": {
        "id": "KJ6o7xhnKLjj",
        "colab": {
          "base_uri": "https://localhost:8080/"
        },
        "outputId": "47e70e22-07c5-4b12-d58c-82890135ded9"
      },
      "source": [
        "reconstructions = autoencoder.predict(digits_train_norm)\n",
        "train_loss = tf.keras.losses.mae(reconstructions, digits_train_norm)\n",
        "\n",
        "a=0\n",
        "for i in range(len(train_loss)):\n",
        "  a+=np.mean(train_loss[i]) + np.std(train_loss[i])\n",
        "print(a/len(train_loss))\n",
        "\n",
        "threshold = np.mean(train_loss) + 3*np.std(train_loss)\n",
        "print(\"Threshold: \", threshold)"
      ],
      "execution_count": 17,
      "outputs": [
        {
          "output_type": "stream",
          "name": "stdout",
          "text": [
            "0.04455385274675941\n",
            "Threshold:  0.0925697939532605\n"
          ]
        }
      ]
    },
    {
      "cell_type": "markdown",
      "metadata": {
        "id": "HHTwx3aiKUBJ"
      },
      "source": [
        "Проверим использование этого критерия на выборке из 1000 изображений-аномалий, например на изображениях одежды"
      ]
    },
    {
      "cell_type": "code",
      "metadata": {
        "id": "uffkr4-VKRmo",
        "colab": {
          "base_uri": "https://localhost:8080/"
        },
        "outputId": "a8125027-ea56-49ea-8310-d8d5ccfa25f6"
      },
      "source": [
        "print(\"Количество аномалий: {}\".format(len(fashion_train_norm[0:1000])))\n",
        "\n",
        "detected_count = 0\n",
        "\n",
        "for s in fashion_train_norm[0:1000]:\n",
        "  pred = autoencoder.predict(np.array([s]))[0]\n",
        "  loss = tf.keras.losses.mae(pred, s)\n",
        "\n",
        "  th = float(np.mean(loss) + np.std(loss))\n",
        "\n",
        "  if th > threshold:\n",
        "    detected_count += 1\n",
        "\n",
        "print(\"Выявленные аномалии: {}\".format(detected_count))"
      ],
      "execution_count": 18,
      "outputs": [
        {
          "output_type": "stream",
          "name": "stdout",
          "text": [
            "Количество аномалий: 1000\n",
            "Выявленные аномалии: 994\n"
          ]
        }
      ]
    },
    {
      "cell_type": "markdown",
      "metadata": {
        "id": "olfCQ5BBKYfN"
      },
      "source": [
        "Проверим использование этого критерия на выборке из 1000 нормальных изображений, например на изображениях цифр"
      ]
    },
    {
      "cell_type": "code",
      "metadata": {
        "id": "0JWgJ9WUKWXl",
        "colab": {
          "base_uri": "https://localhost:8080/"
        },
        "outputId": "e0c66572-c6b3-4a07-d258-360328081f91"
      },
      "source": [
        "print(\"Количество цифр: {}\".format(len(digits_test_norm[0:1000])))\n",
        "\n",
        "detected_count = 0\n",
        "\n",
        "for s in digits_test_norm[0:1000]:\n",
        "  pred = autoencoder.predict(np.array([s]))[0]\n",
        "  loss = tf.keras.losses.mae(pred, s)\n",
        "\n",
        "  th = float(np.mean(loss) + np.std(loss))\n",
        "\n",
        "  if th < threshold:\n",
        "    detected_count += 1\n",
        "\n",
        "\n",
        "print(\"Выявленные цифры: {}\".format(detected_count))"
      ],
      "execution_count": 24,
      "outputs": [
        {
          "output_type": "stream",
          "name": "stdout",
          "text": [
            "Количество цифр: 1000\n",
            "Выявленные цифры: 1000\n"
          ]
        }
      ]
    }
  ]
}